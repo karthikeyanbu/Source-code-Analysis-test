{
 "cells": [
  {
   "cell_type": "code",
   "execution_count": null,
   "id": "32c9a814",
   "metadata": {},
   "outputs": [],
   "source": [
    "import numpy as np\n",
    "import pandas as pd\n",
    "import stats.ttest_ind from scipy.stats\n",
    "\n",
    "df= np.read_csv('')\n",
    "\n",
    "t_statistic, p_value = stats.ttest_ind()"
   ]
  }
 ],
 "metadata": {
  "kernelspec": {
   "display_name": "Python 3 (ipykernel)",
   "language": "python",
   "name": "python3"
  },
  "language_info": {
   "codemirror_mode": {
    "name": "ipython",
    "version": 3
   },
   "file_extension": ".py",
   "mimetype": "text/x-python",
   "name": "python",
   "nbconvert_exporter": "python",
   "pygments_lexer": "ipython3",
   "version": "3.9.7"
  }
 },
 "nbformat": 4,
 "nbformat_minor": 5
}
